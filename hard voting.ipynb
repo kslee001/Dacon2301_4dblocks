{
 "cells": [
  {
   "cell_type": "code",
   "execution_count": 1,
   "id": "27ac9d66",
   "metadata": {},
   "outputs": [],
   "source": [
    "import os, numpy as np, pandas as pd\n",
    "from tqdm.auto import tqdm as tq\n",
    "import warnings\n",
    "warnings.filterwarnings('ignore')\n",
    "path = \"C:/Users/kslee/Desktop/swin_output\"\n",
    "path = \"C:/Users/Gyuseong Lee/Desktop/convnext\"\n",
    "path = \"C:/Users/Gyuseong Lee/Desktop/swin_output\"\n",
    "path = \"C:/Users/kslee/Desktop/convnext_output\"\n",
    "\n",
    "path ='C:/Users/Gyuseong Lee/Desktop/outputs/all'\n",
    "path ='C:/Users/Gyuseong Lee/Desktop/outputs/convnext'\n",
    "path ='C:/Users/kslee/Desktop/outputs/convnext/probs'\n",
    "path ='C:/Users/Gyuseong Lee/Desktop/outputs/convnext/hard'"
   ]
  },
  {
   "cell_type": "code",
   "execution_count": 2,
   "id": "7f0c2e48",
   "metadata": {
    "scrolled": true
   },
   "outputs": [],
   "source": [
    "files = os.listdir(path)\n",
    "# files = [\n",
    "#     '1203_new.csv',\n",
    "#      '317_new.csv', '910_new.csv', '201_new.csv'\n",
    "    \n",
    "# ]\n",
    "files = [path+\"/\"+files[idx] for idx in range(len(files))]\n",
    "data = [pd.read_csv(files[idx]) for idx in range(len(files))]\n",
    "columns = data[0].columns\n"
   ]
  },
  {
   "cell_type": "code",
   "execution_count": 3,
   "id": "1ff05184",
   "metadata": {},
   "outputs": [
    {
     "name": "stdout",
     "output_type": "stream",
     "text": [
      "['C:/Users/Gyuseong Lee/Desktop/outputs/convnext/hard/12000.csv', 'C:/Users/Gyuseong Lee/Desktop/outputs/convnext/hard/1203_con.csv', 'C:/Users/Gyuseong Lee/Desktop/outputs/convnext/hard/1203_new.csv', 'C:/Users/Gyuseong Lee/Desktop/outputs/convnext/hard/13000.csv', 'C:/Users/Gyuseong Lee/Desktop/outputs/convnext/hard/14000.csv', 'C:/Users/Gyuseong Lee/Desktop/outputs/convnext/hard/15000.csv', 'C:/Users/Gyuseong Lee/Desktop/outputs/convnext/hard/201_con.csv', 'C:/Users/Gyuseong Lee/Desktop/outputs/convnext/hard/201_new.csv', 'C:/Users/Gyuseong Lee/Desktop/outputs/convnext/hard/21000.csv', 'C:/Users/Gyuseong Lee/Desktop/outputs/convnext/hard/22000.csv', 'C:/Users/Gyuseong Lee/Desktop/outputs/convnext/hard/23000.csv', 'C:/Users/Gyuseong Lee/Desktop/outputs/convnext/hard/24000.csv', 'C:/Users/Gyuseong Lee/Desktop/outputs/convnext/hard/260_con.csv', 'C:/Users/Gyuseong Lee/Desktop/outputs/convnext/hard/260_new.csv', 'C:/Users/Gyuseong Lee/Desktop/outputs/convnext/hard/270_con.csv', 'C:/Users/Gyuseong Lee/Desktop/outputs/convnext/hard/270_new.csv', 'C:/Users/Gyuseong Lee/Desktop/outputs/convnext/hard/280_con.csv', 'C:/Users/Gyuseong Lee/Desktop/outputs/convnext/hard/280_new.csv', 'C:/Users/Gyuseong Lee/Desktop/outputs/convnext/hard/290_con.csv', 'C:/Users/Gyuseong Lee/Desktop/outputs/convnext/hard/290_new.csv', 'C:/Users/Gyuseong Lee/Desktop/outputs/convnext/hard/317_con.csv', 'C:/Users/Gyuseong Lee/Desktop/outputs/convnext/hard/317_new.csv', 'C:/Users/Gyuseong Lee/Desktop/outputs/convnext/hard/910_con.csv', 'C:/Users/Gyuseong Lee/Desktop/outputs/convnext/hard/910_new.csv']\n"
     ]
    }
   ],
   "source": [
    "print(files)"
   ]
  },
  {
   "cell_type": "code",
   "execution_count": 4,
   "id": "7753d2bd",
   "metadata": {},
   "outputs": [
    {
     "name": "stdout",
     "output_type": "stream",
     "text": [
      "24\n"
     ]
    }
   ],
   "source": [
    "print(len(files))"
   ]
  },
  {
   "cell_type": "code",
   "execution_count": 5,
   "id": "dd7634e3",
   "metadata": {},
   "outputs": [],
   "source": [
    "labels = data[0].columns"
   ]
  },
  {
   "cell_type": "code",
   "execution_count": 6,
   "id": "2b930c66",
   "metadata": {},
   "outputs": [
    {
     "data": {
      "text/plain": [
       "Index(['id', 'A', 'B', 'C', 'D', 'E', 'F', 'G', 'H', 'I', 'J'], dtype='object')"
      ]
     },
     "execution_count": 6,
     "metadata": {},
     "output_type": "execute_result"
    }
   ],
   "source": [
    "labels"
   ]
  },
  {
   "cell_type": "code",
   "execution_count": 7,
   "id": "dc13134f",
   "metadata": {
    "scrolled": true
   },
   "outputs": [
    {
     "data": {
      "application/vnd.jupyter.widget-view+json": {
       "model_id": "779303d5cbc34db08926cf385a92a11e",
       "version_major": 2,
       "version_minor": 0
      },
      "text/plain": [
       "  0%|          | 0/24 [00:00<?, ?it/s]"
      ]
     },
     "metadata": {},
     "output_type": "display_data"
    }
   ],
   "source": [
    "labels = data[0].columns\n",
    "result = dict()\n",
    "\n",
    "for idx in range(1460):\n",
    "    result[idx] = {\n",
    "        \"id\":\"\",\n",
    "        \"A0\":0, \n",
    "        \"A1\":0, \n",
    "        \"B0\":0, \n",
    "        \"B1\":0, \n",
    "        \"C0\":0, \n",
    "        \"C1\":0, \n",
    "        \"D0\":0,\n",
    "        \"D1\":0, \n",
    "        \"E0\":0, \n",
    "        \"E1\":0, \n",
    "        \"F0\":0, \n",
    "        \"F1\":0, \n",
    "        \"G0\":0, \n",
    "        \"G1\":0,\n",
    "        \"H0\":0, \n",
    "        \"H1\":0, \n",
    "        \"I0\":0, \n",
    "        \"I1\":0, \n",
    "        \"J0\":0, \n",
    "        \"J1\":0, \n",
    "    }\n",
    "\n",
    "for cur_data in tq(data):\n",
    "    for idx in (range(len(cur_data))):\n",
    "        cur = cur_data.loc[idx]\n",
    "        for e_idx in range(len(cur)):\n",
    "            if e_idx == 0:\n",
    "                result[idx][\"id\"] = cur[e_idx]\n",
    "            else:\n",
    "                key = labels[e_idx]\n",
    "                value = cur[e_idx]\n",
    "                result[idx][f\"{key}{value}\"] +=1\n",
    "\n",
    "result = pd.DataFrame(result).T\n",
    "for idx in range(1, 11):\n",
    "    result[labels[idx]] = np.where(result[f\"{labels[idx]}0\"]>result[f\"{labels[idx]}1\"], 0, 1)\n",
    "    result\n",
    "    \n",
    "result = result[labels]"
   ]
  },
  {
   "cell_type": "code",
   "execution_count": 8,
   "id": "9dfc8a36",
   "metadata": {},
   "outputs": [
    {
     "data": {
      "text/html": [
       "<div>\n",
       "<style scoped>\n",
       "    .dataframe tbody tr th:only-of-type {\n",
       "        vertical-align: middle;\n",
       "    }\n",
       "\n",
       "    .dataframe tbody tr th {\n",
       "        vertical-align: top;\n",
       "    }\n",
       "\n",
       "    .dataframe thead th {\n",
       "        text-align: right;\n",
       "    }\n",
       "</style>\n",
       "<table border=\"1\" class=\"dataframe\">\n",
       "  <thead>\n",
       "    <tr style=\"text-align: right;\">\n",
       "      <th></th>\n",
       "      <th>id</th>\n",
       "      <th>A</th>\n",
       "      <th>B</th>\n",
       "      <th>C</th>\n",
       "      <th>D</th>\n",
       "      <th>E</th>\n",
       "      <th>F</th>\n",
       "      <th>G</th>\n",
       "      <th>H</th>\n",
       "      <th>I</th>\n",
       "      <th>J</th>\n",
       "    </tr>\n",
       "  </thead>\n",
       "  <tbody>\n",
       "    <tr>\n",
       "      <th>0</th>\n",
       "      <td>TEST_00000</td>\n",
       "      <td>0</td>\n",
       "      <td>1</td>\n",
       "      <td>0</td>\n",
       "      <td>0</td>\n",
       "      <td>0</td>\n",
       "      <td>0</td>\n",
       "      <td>1</td>\n",
       "      <td>0</td>\n",
       "      <td>1</td>\n",
       "      <td>0</td>\n",
       "    </tr>\n",
       "    <tr>\n",
       "      <th>1</th>\n",
       "      <td>TEST_00001</td>\n",
       "      <td>0</td>\n",
       "      <td>1</td>\n",
       "      <td>0</td>\n",
       "      <td>0</td>\n",
       "      <td>0</td>\n",
       "      <td>1</td>\n",
       "      <td>0</td>\n",
       "      <td>0</td>\n",
       "      <td>0</td>\n",
       "      <td>0</td>\n",
       "    </tr>\n",
       "    <tr>\n",
       "      <th>2</th>\n",
       "      <td>TEST_00002</td>\n",
       "      <td>1</td>\n",
       "      <td>1</td>\n",
       "      <td>0</td>\n",
       "      <td>1</td>\n",
       "      <td>1</td>\n",
       "      <td>1</td>\n",
       "      <td>0</td>\n",
       "      <td>1</td>\n",
       "      <td>0</td>\n",
       "      <td>1</td>\n",
       "    </tr>\n",
       "    <tr>\n",
       "      <th>3</th>\n",
       "      <td>TEST_00003</td>\n",
       "      <td>1</td>\n",
       "      <td>0</td>\n",
       "      <td>0</td>\n",
       "      <td>0</td>\n",
       "      <td>1</td>\n",
       "      <td>1</td>\n",
       "      <td>0</td>\n",
       "      <td>1</td>\n",
       "      <td>1</td>\n",
       "      <td>0</td>\n",
       "    </tr>\n",
       "    <tr>\n",
       "      <th>4</th>\n",
       "      <td>TEST_00004</td>\n",
       "      <td>0</td>\n",
       "      <td>1</td>\n",
       "      <td>0</td>\n",
       "      <td>0</td>\n",
       "      <td>1</td>\n",
       "      <td>0</td>\n",
       "      <td>0</td>\n",
       "      <td>0</td>\n",
       "      <td>0</td>\n",
       "      <td>0</td>\n",
       "    </tr>\n",
       "    <tr>\n",
       "      <th>...</th>\n",
       "      <td>...</td>\n",
       "      <td>...</td>\n",
       "      <td>...</td>\n",
       "      <td>...</td>\n",
       "      <td>...</td>\n",
       "      <td>...</td>\n",
       "      <td>...</td>\n",
       "      <td>...</td>\n",
       "      <td>...</td>\n",
       "      <td>...</td>\n",
       "      <td>...</td>\n",
       "    </tr>\n",
       "    <tr>\n",
       "      <th>1455</th>\n",
       "      <td>TEST_01455</td>\n",
       "      <td>1</td>\n",
       "      <td>0</td>\n",
       "      <td>1</td>\n",
       "      <td>1</td>\n",
       "      <td>1</td>\n",
       "      <td>0</td>\n",
       "      <td>0</td>\n",
       "      <td>1</td>\n",
       "      <td>0</td>\n",
       "      <td>0</td>\n",
       "    </tr>\n",
       "    <tr>\n",
       "      <th>1456</th>\n",
       "      <td>TEST_01456</td>\n",
       "      <td>1</td>\n",
       "      <td>0</td>\n",
       "      <td>1</td>\n",
       "      <td>0</td>\n",
       "      <td>0</td>\n",
       "      <td>1</td>\n",
       "      <td>0</td>\n",
       "      <td>0</td>\n",
       "      <td>1</td>\n",
       "      <td>0</td>\n",
       "    </tr>\n",
       "    <tr>\n",
       "      <th>1457</th>\n",
       "      <td>TEST_01457</td>\n",
       "      <td>0</td>\n",
       "      <td>0</td>\n",
       "      <td>1</td>\n",
       "      <td>0</td>\n",
       "      <td>0</td>\n",
       "      <td>0</td>\n",
       "      <td>0</td>\n",
       "      <td>1</td>\n",
       "      <td>0</td>\n",
       "      <td>1</td>\n",
       "    </tr>\n",
       "    <tr>\n",
       "      <th>1458</th>\n",
       "      <td>TEST_01458</td>\n",
       "      <td>1</td>\n",
       "      <td>0</td>\n",
       "      <td>1</td>\n",
       "      <td>1</td>\n",
       "      <td>1</td>\n",
       "      <td>1</td>\n",
       "      <td>1</td>\n",
       "      <td>0</td>\n",
       "      <td>1</td>\n",
       "      <td>1</td>\n",
       "    </tr>\n",
       "    <tr>\n",
       "      <th>1459</th>\n",
       "      <td>TEST_01459</td>\n",
       "      <td>1</td>\n",
       "      <td>0</td>\n",
       "      <td>1</td>\n",
       "      <td>0</td>\n",
       "      <td>1</td>\n",
       "      <td>0</td>\n",
       "      <td>1</td>\n",
       "      <td>0</td>\n",
       "      <td>0</td>\n",
       "      <td>0</td>\n",
       "    </tr>\n",
       "  </tbody>\n",
       "</table>\n",
       "<p>1460 rows × 11 columns</p>\n",
       "</div>"
      ],
      "text/plain": [
       "              id  A  B  C  D  E  F  G  H  I  J\n",
       "0     TEST_00000  0  1  0  0  0  0  1  0  1  0\n",
       "1     TEST_00001  0  1  0  0  0  1  0  0  0  0\n",
       "2     TEST_00002  1  1  0  1  1  1  0  1  0  1\n",
       "3     TEST_00003  1  0  0  0  1  1  0  1  1  0\n",
       "4     TEST_00004  0  1  0  0  1  0  0  0  0  0\n",
       "...          ... .. .. .. .. .. .. .. .. .. ..\n",
       "1455  TEST_01455  1  0  1  1  1  0  0  1  0  0\n",
       "1456  TEST_01456  1  0  1  0  0  1  0  0  1  0\n",
       "1457  TEST_01457  0  0  1  0  0  0  0  1  0  1\n",
       "1458  TEST_01458  1  0  1  1  1  1  1  0  1  1\n",
       "1459  TEST_01459  1  0  1  0  1  0  1  0  0  0\n",
       "\n",
       "[1460 rows x 11 columns]"
      ]
     },
     "execution_count": 8,
     "metadata": {},
     "output_type": "execute_result"
    }
   ],
   "source": [
    "result"
   ]
  },
  {
   "cell_type": "code",
   "execution_count": 9,
   "id": "de9be0e1",
   "metadata": {},
   "outputs": [],
   "source": [
    "result.to_csv(\"hardvoting_final_24.csv\", index=False)"
   ]
  },
  {
   "cell_type": "code",
   "execution_count": null,
   "id": "f1ef91ba",
   "metadata": {},
   "outputs": [],
   "source": [
    "1e-4"
   ]
  }
 ],
 "metadata": {
  "kernelspec": {
   "display_name": "tch",
   "language": "python",
   "name": "tch"
  },
  "language_info": {
   "codemirror_mode": {
    "name": "ipython",
    "version": 3
   },
   "file_extension": ".py",
   "mimetype": "text/x-python",
   "name": "python",
   "nbconvert_exporter": "python",
   "pygments_lexer": "ipython3",
   "version": "3.10.6"
  }
 },
 "nbformat": 4,
 "nbformat_minor": 5
}
